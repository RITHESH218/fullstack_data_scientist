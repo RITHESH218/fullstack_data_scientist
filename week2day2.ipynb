{
 "cells": [
  {
   "cell_type": "code",
   "execution_count": null,
   "id": "085e0496",
   "metadata": {},
   "outputs": [
    {
     "name": "stdout",
     "output_type": "stream",
     "text": [
      "Total number of words: 2\n"
     ]
    }
   ],
   "source": [
    "#1. Problem: Given a text file, count the total number of words.\n",
    "\n",
    "f=open(\"abc.txt\",\"r\")\n",
    "t=f.read()\n",
    "w=t.split()\n",
    "c=len(w)\n",
    "print(\"Total number of words:\",c)\n",
    "f.close()\n"
   ]
  },
  {
   "cell_type": "code",
   "execution_count": 4,
   "id": "cf145e64",
   "metadata": {},
   "outputs": [
    {
     "name": "stdout",
     "output_type": "stream",
     "text": [
      "Strong password\n"
     ]
    }
   ],
   "source": [
    "#2. Problem: Write a program to check if a password is strong (at least 8 characters, contains uppercase, lowercase, digit, and special char).\n",
    "import re\n",
    "def is_strong_password(p):\n",
    "    if(len(p)<8):\n",
    "        return False\n",
    "    if not re.search(\"[A-Z]\",p):\n",
    "        return False\n",
    "    if not re.search(\"[a-z]\",p):\n",
    "        return False\n",
    "    if not re.search(\"[0-9]\",p):\n",
    "        return False\n",
    "    if not re.search(\"[@#+_=$]\",p):\n",
    "        return False\n",
    "    return True\n",
    "p=input(\"Enter password:\")\n",
    "if is_strong_password(p):\n",
    "    print(\"Strong password\")\n",
    "else:\n",
    "    print(\"Weak password\")\n",
    "\n",
    "\n",
    "    \n",
    "    \n"
   ]
  },
  {
   "cell_type": "code",
   "execution_count": 5,
   "id": "c78ea390",
   "metadata": {},
   "outputs": [
    {
     "name": "stdout",
     "output_type": "stream",
     "text": [
      "Result: 40.0\n"
     ]
    }
   ],
   "source": [
    "#3. Problem: Implement a calculator with +, -, *, / operations.\n",
    "def cal(a,b,op):\n",
    "    match op:\n",
    "        case '+': return a+b\n",
    "        case '-': return a-b\n",
    "        case '*': return a*b\n",
    "        case '/': return a/b\n",
    "        case _: return \"Invalid operation\"\n",
    "a=float(input(\"Enter first number:\"))\n",
    "b=float(input(\"Enter second number:\"))\n",
    "op=input(\"Enter operation (+,-,*,/):\")\n",
    "c=cal(a,b,op)\n",
    "print(\"Result:\",c)"
   ]
  },
  {
   "cell_type": "code",
   "execution_count": 9,
   "id": "73113ec4",
   "metadata": {},
   "outputs": [
    {
     "name": "stdout",
     "output_type": "stream",
     "text": [
      "Duplicate name: rithesh\n",
      "Duplicate name: vinay\n"
     ]
    }
   ],
   "source": [
    "#4. Problem: Given a list of student names, find duplicates.\n",
    "names=[\"rithesh\",\"vinay\",\"ram\",\"rithesh\",\"vinay\"]\n",
    "d=set()\n",
    "for n in names:\n",
    "    if n in d:\n",
    "        print(\"Duplicate name:\",n)\n",
    "    else:\n",
    "        d.add(n) \n",
    "\n"
   ]
  },
  {
   "cell_type": "code",
   "execution_count": 12,
   "id": "5a6fe2ab",
   "metadata": {},
   "outputs": [
    {
     "name": "stdout",
     "output_type": "stream",
     "text": [
      "celsius: 38.888888888888886\n"
     ]
    }
   ],
   "source": [
    "#5. Problem: Convert between Celsius and Fahrenheit.\n",
    "def c_to_f(c):\n",
    "    return (c*9/5)+32\n",
    "def f_to_c(f):\n",
    "    return (f-32)*5/9\n",
    "t=float(input(\"Enter temperature:\"))\n",
    "u=input(\"Enter unit (C/F):\")\n",
    "if u=='C':\n",
    "    print(\"fahrenheit:\",c_to_f(t))\n",
    "elif u=='F':\n",
    "    print(\"celsius:\",f_to_c(t))\n",
    "else:\n",
    "    print(\"Invalid unit\")\n",
    "\n"
   ]
  },
  {
   "cell_type": "code",
   "execution_count": 23,
   "id": "a2d500a2",
   "metadata": {},
   "outputs": [
    {
     "name": "stdout",
     "output_type": "stream",
     "text": [
      "Largest number: 30\n"
     ]
    }
   ],
   "source": [
    "#6. Problem: Find the largest number from a list of integers.\n",
    "n=[10,20,5,30,15]\n",
    "l=max(n)\n",
    "print(\"Largest number:\",l)"
   ]
  },
  {
   "cell_type": "code",
   "execution_count": 14,
   "id": "ef74775c",
   "metadata": {},
   "outputs": [
    {
     "name": "stdout",
     "output_type": "stream",
     "text": [
      "Simple Interest: 1000.0\n"
     ]
    }
   ],
   "source": [
    "#7. Problem: Calculate Simple Interest.\n",
    "def simple_interest(p,r,t):\n",
    "    return (p*r*t)/100\n",
    "p=float(input(\"Enter principal amount:\"))\n",
    "r=float(input(\"Enter rate of interest:\"))       \n",
    "t=float(input(\"Enter time (in years):\"))\n",
    "si=simple_interest(p,r,t)\n",
    "print(\"Simple Interest:\",si)"
   ]
  },
  {
   "cell_type": "code",
   "execution_count": 35,
   "id": "6556edcd",
   "metadata": {},
   "outputs": [
    {
     "name": "stdout",
     "output_type": "stream",
     "text": [
      "vinay : 70\n",
      "ram : 60\n"
     ]
    }
   ],
   "source": [
    "#8. Problem: Given a dictionary of student names and attendance %, find defaulters (<75%).\n",
    "s={\"rithesh\":80,\"vinay\":70,\"ram\":60,\"sita\":90}\n",
    "for n,a in s.items():\n",
    "    if a<75:\n",
    "        print(n,\":\",a)\n"
   ]
  },
  {
   "cell_type": "code",
   "execution_count": 17,
   "id": "45de8fe4",
   "metadata": {},
   "outputs": [
    {
     "name": "stdout",
     "output_type": "stream",
     "text": [
      "Sum of digits: 10\n"
     ]
    }
   ],
   "source": [
    "#9. Problem: Input: 1234 → Output: 10\n",
    "n=int(input(\"Enter a number:\"))\n",
    "s=0\n",
    "while n>0:\n",
    "    a=n%10\n",
    "    s+=a\n",
    "    n=n//10\n",
    "print(\"Sum of digits:\",s)"
   ]
  },
  {
   "cell_type": "code",
   "execution_count": 30,
   "id": "f9ea8743",
   "metadata": {},
   "outputs": [
    {
     "name": "stdout",
     "output_type": "stream",
     "text": [
      " given is prime number\n"
     ]
    }
   ],
   "source": [
    "#10. Problem: Write a function to check if a number is prime.\n",
    "n=int(input(\"Enter a number:\"))\n",
    "f=0\n",
    "for i in range(2,n):\n",
    "    if(n%i==0 ):\n",
    "        print(\"not a prime\")\n",
    "        f=1\n",
    "        break\n",
    "if(f==0):\n",
    "    print(\" given is prime number\") "
   ]
  },
  {
   "cell_type": "code",
   "execution_count": 31,
   "id": "21722d8c",
   "metadata": {},
   "outputs": [
    {
     "name": "stdout",
     "output_type": "stream",
     "text": [
      "smallest: 5\n",
      "largest: 30\n"
     ]
    }
   ],
   "source": [
    "#11. Problem: Find smallest and largest numbers from a list.\n",
    "n=[10,20,5,30,15]\n",
    "print(\"smallest:\",min(n))\n",
    "print(\"largest:\",max(n))\n"
   ]
  },
  {
   "cell_type": "code",
   "execution_count": 32,
   "id": "ba2d9729",
   "metadata": {},
   "outputs": [
    {
     "name": "stdout",
     "output_type": "stream",
     "text": [
      "Total bill: 600\n"
     ]
    }
   ],
   "source": [
    "#12. Problem: Given items with prices in a dictionary, calculate total bill.\n",
    "d={'a':100,'b':200,'c':300}\n",
    "t=0\n",
    "for p in d.values():\n",
    "    t+=p\n",
    "print(\"Total bill:\",t)           "
   ]
  },
  {
   "cell_type": "code",
   "execution_count": 33,
   "id": "c80a946f",
   "metadata": {},
   "outputs": [
    {
     "name": "stdout",
     "output_type": "stream",
     "text": [
      "129 is largest\n"
     ]
    }
   ],
   "source": [
    "#13. Problem: Input 3 numbers, print the largest.\n",
    "a,b,c=map(int,input(\"Enter three numbers:\").split())\n",
    "if(a>=b) and (a>=c):\n",
    "    print(a,\"is largest\")\n",
    "elif(b>=a) and (b>=c):\n",
    "    print(b,\"is largest\")\n",
    "else:\n",
    "    print(c,\"is largest\")    "
   ]
  },
  {
   "cell_type": "code",
   "execution_count": 23,
   "id": "e5d83753",
   "metadata": {},
   "outputs": [
    {
     "name": "stdout",
     "output_type": "stream",
     "text": [
      "h : 1\n",
      "e : 1\n",
      "l : 2\n",
      "o : 1\n"
     ]
    }
   ],
   "source": [
    "#14. Problem: Count how many times each character appears in a string.\n",
    "s=input(\"Enter a string:\")\n",
    "d={}\n",
    "for i in s:\n",
    "    if i in d:\n",
    "        d[i]+=1\n",
    "    else:\n",
    "        d[i]=1\n",
    "for k,v in d.items():\n",
    "    print(k,\":\",v)"
   ]
  },
  {
   "cell_type": "code",
   "execution_count": 31,
   "id": "67d4270b",
   "metadata": {},
   "outputs": [
    {
     "name": "stdout",
     "output_type": "stream",
     "text": [
      "Electricity bill: 3700\n"
     ]
    }
   ],
   "source": [
    "'''15. Problem: Calculate electricity bill:\n",
    "First 100 units → ₹5/unit\n",
    "Next 100 units → ₹7/unit\n",
    "Above 200 units → ₹10/unit'''\n",
    "n=int(input(\"Enter units:\"))\n",
    "if n<=100:\n",
    "    b=n*5\n",
    "elif n<=200:\n",
    "    b=100*5+(n-100)*7\n",
    "else:\n",
    "    b=100*5+100*7+(n-200)*10\n",
    "print(\"Electricity bill:\",b)"
   ]
  },
  {
   "cell_type": "code",
   "execution_count": 28,
   "id": "8fd2ad41",
   "metadata": {},
   "outputs": [
    {
     "name": "stdout",
     "output_type": "stream",
     "text": [
      "Sorted names: ['abhi', 'ram', 'rithesh', 'sita', 'vinay']\n"
     ]
    }
   ],
   "source": [
    "#16. Problem: Sort a list of names in ascending order.\n",
    "names = [\"rithesh\", \"vinay\", \"ram\", \"sita\",\"abhi\"]\n",
    "names.sort()\n",
    "print(\"Sorted names:\",names)\n",
    "\n",
    "\n"
   ]
  },
  {
   "cell_type": "code",
   "execution_count": 2,
   "id": "44e25617",
   "metadata": {},
   "outputs": [
    {
     "name": "stdout",
     "output_type": "stream",
     "text": [
      "Reversed number: 54321\n"
     ]
    }
   ],
   "source": [
    "#17. Problem: Input: 1234 → Output:4321.\n",
    "n=int(input(\"Enter a number:\"))\n",
    "r=0\n",
    "while n>0:\n",
    "    a=n%10\n",
    "    r=r*10+a\n",
    "    n=n//10\n",
    "print(\"Reversed number:\",r)\n"
   ]
  },
  {
   "cell_type": "code",
   "execution_count": 3,
   "id": "44a4112e",
   "metadata": {},
   "outputs": [
    {
     "name": "stdout",
     "output_type": "stream",
     "text": [
      "Positive numbers: 3\n",
      "Negative numbers: 2\n",
      "Zeroes: 2\n"
     ]
    }
   ],
   "source": [
    "#18. Problem: Given a list, count positive, negative, and zero numbers.\n",
    "n=[10,-5,0,20,-15,0,30]\n",
    "p=0\n",
    "ng=0\n",
    "z=0\n",
    "for i in n:\n",
    "    if i>0:\n",
    "        p+=1\n",
    "    elif i<0:\n",
    "        ng+=1\n",
    "    else:\n",
    "        z+=1\n",
    "print(\"Positive numbers:\",p)\n",
    "print(\"Negative numbers:\",ng)\n",
    "print(\"Zeroes:\",z)"
   ]
  },
  {
   "cell_type": "code",
   "execution_count": 4,
   "id": "211c4cd0",
   "metadata": {},
   "outputs": [
    {
     "name": "stdout",
     "output_type": "stream",
     "text": [
      "Incorrect PIN\n",
      "Incorrect PIN\n",
      "PIN correct\n"
     ]
    }
   ],
   "source": [
    "#19. Problem: User has 3 attempts to enter correct PIN.\n",
    "pin=\"1234\"\n",
    "for i in range(3):\n",
    "    p=input(\"Enter PIN:\")\n",
    "    if p==pin:\n",
    "        print(\"PIN correct\")\n",
    "        break\n",
    "    else:\n",
    "        print(\"Incorrect PIN\")\n",
    "else:\n",
    "    print(\"No more attempts left\")\n",
    "    "
   ]
  },
  {
   "cell_type": "code",
   "execution_count": 7,
   "id": "411cf260",
   "metadata": {},
   "outputs": [
    {
     "name": "stdout",
     "output_type": "stream",
     "text": [
      "Error: Division by zero is not allowed.\n"
     ]
    }
   ],
   "source": [
    "#20. Problem: Write a program that asks for two numbers and divides them. Handle division by zero.\n",
    "a,b=map(float,input(\"Enter two numbers:\").split())\n",
    "try:\n",
    "    r=a/b\n",
    "    print(\"result:\",r)\n",
    "except  Exception as e:\n",
    "    print(\"Error: Division by zero is not allowed.\")\n"
   ]
  },
  {
   "cell_type": "code",
   "execution_count": 22,
   "id": "360b2d31",
   "metadata": {},
   "outputs": [
    {
     "name": "stdout",
     "output_type": "stream",
     "text": [
      "Error: Invalid input. Please enter numeric values.\n"
     ]
    }
   ],
   "source": [
    "#21. Problem: Write a program that handles both ValueError (invalid input) and ZeroDivisionError.\n",
    "\n",
    "try:\n",
    "    a,b=map(int,input(\"Enter two numbers:\").split())\n",
    "    r=a/b\n",
    "    print(\"result:\",r)\n",
    "\n",
    "except ValueError:\n",
    "    print(\"Error: Invalid input. Please enter numeric values.\")\n",
    "except ZeroDivisionError:\n",
    "    print(\"Error: Division by zero is not allowed.\")\n"
   ]
  },
  {
   "cell_type": "code",
   "execution_count": 30,
   "id": "b1c300b4",
   "metadata": {},
   "outputs": [
    {
     "name": "stdout",
     "output_type": "stream",
     "text": [
      "Withdrawal successful. New balance: 3000\n"
     ]
    }
   ],
   "source": [
    "#22. Problem: If withdrawal amount is greater than balance, raise an exception.\n",
    "b=int(input(\"Enter balance:\"))\n",
    "w=int(input(\"Enter withdrawal amount:\"))\n",
    "try:\n",
    "    if w>b:\n",
    "        raise Exception(\"Insufficient balance\")\n",
    "    else:\n",
    "        b-=w\n",
    "        print(\"Withdrawal successful. New balance:\",b)\n",
    "except Exception as e:\n",
    "    print(\"Error:\",e)\n",
    "    "
   ]
  },
  {
   "cell_type": "code",
   "execution_count": null,
   "id": "1e1e1f81",
   "metadata": {},
   "outputs": [],
   "source": [
    "'''23. Problem: Calculate total price, handle invalid input, and always show \"Bill processing finished\".\n",
    "\t•\tFirst 100 units → ₹5/unit\n",
    "\t•\tNext 100 units → ₹7/unit\n",
    "\t•\tAbove 200 units → ₹10/uni'''\n"
   ]
  }
 ],
 "metadata": {
  "kernelspec": {
   "display_name": "Python 3",
   "language": "python",
   "name": "python3"
  },
  "language_info": {
   "codemirror_mode": {
    "name": "ipython",
    "version": 3
   },
   "file_extension": ".py",
   "mimetype": "text/x-python",
   "name": "python",
   "nbconvert_exporter": "python",
   "pygments_lexer": "ipython3",
   "version": "3.11.0"
  }
 },
 "nbformat": 4,
 "nbformat_minor": 5
}
