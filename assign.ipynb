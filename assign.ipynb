{
 "cells": [
  {
   "cell_type": "code",
   "execution_count": null,
   "id": "0851c94c",
   "metadata": {},
   "outputs": [],
   "source": [
    "s=0\n",
    "for i in range(3):\n",
    "    x,y=map(int,input(f\"item{i+1}\").split())\n",
    "    s+=x*y\n",
    "print(s)\n"
   ]
  },
  {
   "cell_type": "code",
   "execution_count": null,
   "id": "3c90b48d",
   "metadata": {},
   "outputs": [],
   "source": [
    "\n",
    "a = int(input(\"Number 1: \"))\n",
    "b = int(input(\"Number 2: \"))\n",
    "print(\"Addition =\",a + b)\n",
    "print(\"Subtraction =\",a - b)\n",
    "print(\"Multiplication =\",a * b)\n",
    "print(\"Division =\",a / b)\n",
    "print(\"Modulus =\",a % b)"
   ]
  },
  {
   "cell_type": "code",
   "execution_count": null,
   "id": "70f96c50",
   "metadata": {},
   "outputs": [],
   "source": [
    "marks=int(input(\"Enter your marks\"))\n",
    "if marks>=90:\n",
    "    print(\"Grade:A+\")    \n",
    "elif marks>=80 and marks<90:\n",
    "    print(\"Grade:A\")\n",
    "elif marks>=70 and marks<80:\n",
    "    print(\"Grade:B\")\n",
    "elif marks>=60 and marks<70:\n",
    "    print(\"Grade:C\")\n",
    "else:\n",
    "    print(\"Fail\")\n",
    "\n"
   ]
  },
  {
   "cell_type": "code",
   "execution_count": null,
   "id": "48578111",
   "metadata": {},
   "outputs": [],
   "source": [
    "\n",
    "l=[45,78,88,56,90]\n",
    "print(\"Highest Marks =\",max(l))\n",
    "print(\"Lowest Marks =\",min(l))\n",
    "print(\"Average Marks =\",sum(l)/len(l))\n"
   ]
  },
  {
   "cell_type": "code",
   "execution_count": null,
   "id": "4c7bd968",
   "metadata": {},
   "outputs": [],
   "source": [
    "d={}\n",
    "n=int(input(\"Enter number of items\"))\n",
    "for _ in range(n):  \n",
    "    name,phone=input(\"Enter name and phone number\").split()\n",
    "    d[name]=phone\n",
    "k=input(\"Search name\")\n",
    "if k in d:\n",
    "    print(f\"Phone number of {k} is {d[k]}\")\n"
   ]
  },
  {
   "cell_type": "code",
   "execution_count": null,
   "id": "585a2ea9",
   "metadata": {},
   "outputs": [],
   "source": []
  },
  {
   "cell_type": "code",
   "execution_count": null,
   "id": "5a0ed667",
   "metadata": {},
   "outputs": [],
   "source": [
    "a=input()\n",
    "w,v,c=0,0,0\n",
    "w=len(a.split())\n",
    "for i in a:\n",
    "    if i.lower() in set('aeiou'):\n",
    "        v+=1\n",
    "        c+=1\n",
    "    else:\n",
    "        c+=1\n",
    "print(\"Words:\",w)\n",
    "print(\"Characters:\",c)\n",
    "print(\"Vowels:\",v)\n"
   ]
  },
  {
   "cell_type": "code",
   "execution_count": null,
   "id": "2f745c08",
   "metadata": {},
   "outputs": [],
   "source": [
    "p=int(input(\"Principal =\"))\n",
    "r=int(input(\"Rate =\"))\n",
    "t=int(input(\"Time =\"))\n",
    "i=input(\"Interest Type =\")\n",
    "if i.lower()=='simple':\n",
    "    si=(p*r*t)/100\n",
    "    print(\"Simple Interest =\",si)\n",
    "    print(\"Total Amount =\",p+si)\n",
    "elif i.lower()=='compound':\n",
    "    ci=p*(1+r/100)**t - p\n",
    "    print(\"Compound Interest =\",ci)\n",
    "    print(\"Total Amount =\",p+ci)\n",
    "\n",
    "\n",
    "\n"
   ]
  },
  {
   "cell_type": "code",
   "execution_count": null,
   "id": "a62e80ff",
   "metadata": {},
   "outputs": [],
   "source": []
  }
 ],
 "metadata": {
  "kernelspec": {
   "display_name": "Python 3",
   "language": "python",
   "name": "python3"
  },
  "language_info": {
   "codemirror_mode": {
    "name": "ipython",
    "version": 3
   },
   "file_extension": ".py",
   "mimetype": "text/x-python",
   "name": "python",
   "nbconvert_exporter": "python",
   "pygments_lexer": "ipython3",
   "version": "3.11.0"
  }
 },
 "nbformat": 4,
 "nbformat_minor": 5
}
