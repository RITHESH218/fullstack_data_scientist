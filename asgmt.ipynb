{
 "cells": [
  {
   "cell_type": "code",
   "execution_count": null,
   "id": "010fa64d",
   "metadata": {},
   "outputs": [],
   "source": [
    "'''Prime Number Finder\n",
    "   * Function that returns all prime numbers up to `n`.\n",
    "   * Input: `n = 20`\n",
    "   * Output: `[2, 3, 5, 7, 11, 13, 17, 19]'''\n",
    "def find_prime(n):\n",
    "    k=[]\n",
    "    if n==2:\n",
    "        return [2]\n",
    "    for i in range(2,n+1):\n",
    "        for j in range(2,i):\n",
    "            if i%j==0:\n",
    "                break\n",
    "        else:\n",
    "            k.append(i) \n",
    "    return k\n",
    "print(find_prime(20))"
   ]
  },
  {
   "cell_type": "code",
   "execution_count": null,
   "id": "fe0a35ab",
   "metadata": {},
   "outputs": [],
   "source": [
    "'''2. Palindrome Checker\n",
    " \n",
    "   * Check if a string is palindrome (ignoring spaces & case).\n",
    "   * Input: `\"Never odd or even\"`\n",
    "   * Output: `True` '''\n",
    "def is_palindrome(s):\n",
    "    k=s.lower().replace(\" \",\"\")\n",
    "    return k==k[::-1]\n",
    "print(is_palindrome(\"Never odd or even\"))"
   ]
  },
  {
   "cell_type": "code",
   "execution_count": null,
   "id": "ef108828",
   "metadata": {},
   "outputs": [],
   "source": [
    "'''3. Anagram Checker\n",
    " \n",
    "   * Function checks if two words are anagrams.\n",
    "   * Input: `\"listen\", \"silent\"`\n",
    "   * Output: `True` '''\n",
    "def are_anagram(a,b):\n",
    "    a=a.replace(\" \",\"\").lower()\n",
    "    b=b.replace(\" \",\"\").lower()\n",
    "    return sorted(a)==sorted(b)\n",
    "print(are_anagram(\"listen\",\"silent\"))"
   ]
  },
  {
   "cell_type": "code",
   "execution_count": 66,
   "id": "12c4275a",
   "metadata": {},
   "outputs": [
    {
     "name": "stdout",
     "output_type": "stream",
     "text": [
      "vowels=2, Consonants=3\n"
     ]
    }
   ],
   "source": [
    "'''''Count Vowels & Consonants\n",
    " \n",
    "   * Return count of vowels & consonants.\n",
    "   * Input: `\"hello\"`\n",
    "   * Output: `Vowels=2, Consonants=3` '''\n",
    "def count_vow_con(a):\n",
    "    c,v=0,0\n",
    "    for i in a.lower():\n",
    "        if i in \"aeiou\":\n",
    "            v+=1\n",
    "        elif i.isalpha():\n",
    "            c+=1\n",
    "    return f\"vowels={v}, Consonants={c}\"\n",
    "k=(count_vow_con(\"hello\"))\n",
    "print(k)"
   ]
  },
  {
   "cell_type": "code",
   "execution_count": 67,
   "id": "70bfbe44",
   "metadata": {},
   "outputs": [
    {
     "name": "stdout",
     "output_type": "stream",
     "text": [
      "ALOKAMNATHANRANGANADH\n"
     ]
    }
   ],
   "source": [
    "''''5. Longest Word Finder\n",
    " \n",
    "* Return longest word in a sentence.\n",
    "* Input: `\"Python is amazing\"`\n",
    "* Output: `\"amazing\"`'''\n",
    "def longest_wrd(a):\n",
    "    k=a.split()\n",
    "    m=\"\"\n",
    "    for i in k:\n",
    "        if len(i)>len(m):\n",
    "            m=i\n",
    "    return m\n",
    "k=input(\"Enter a sentence: \")\n",
    "print(longest_wrd(k))"
   ]
  },
  {
   "cell_type": "code",
   "execution_count": null,
   "id": "996d0dba",
   "metadata": {},
   "outputs": [],
   "source": [
    "'''2. Simple Calculator with `math`\n",
    " \n",
    "* Perform sqrt, factorial, sin, cos.\n",
    "* Input: `sqrt(25)`\n",
    "* Output: `5.0` '''\n",
    "import math    \n",
    "while True:\n",
    "    op=input(\"enter operation\")\n",
    "    n=int(input(\"enter number\"))\n",
    "    match(op):\n",
    "        case \"sqrt\":print(math.sqrt(n))\n",
    "        case \"factorial\":print(math.factorial(n))\n",
    "        case \"sin\":print(math.sin(n))\n",
    "        case \"cos\":print(math.cos(n))\n",
    "        case _:break\n"
   ]
  },
  {
   "cell_type": "code",
   "execution_count": null,
   "id": "df77912e",
   "metadata": {},
   "outputs": [],
   "source": [
    " \n",
    "'''3. Word Frequency Counter (`collections.Counter`)\n",
    " \n",
    "* Input: `\"cat dog cat\"`\n",
    "* Output: `{'cat':2,'dog':1}`'''\n",
    "from collections import Counter\n",
    "def word_count(a):\n",
    "    k=Counter(a.split(\" \"))\n",
    "    return k\n",
    "a=input()\n",
    "print(word_count(a))"
   ]
  },
  {
   "cell_type": "code",
   "execution_count": null,
   "id": "cd749265",
   "metadata": {},
   "outputs": [],
   "source": [
    "'''' 4. Weather Simulator (`random`)\n",
    " \n",
    "* Input: None\n",
    "* Output: `\"Weather: Sunny, Temp: 32 ° C\"` '''\n",
    "import random\n",
    "w=['sunny','rainy','cold']\n",
    "print(f'Weather: {random.choice(w)}, Temp: {random.randint(24,45)}° C')"
   ]
  },
  {
   "cell_type": "code",
   "execution_count": null,
   "id": "64608dde",
   "metadata": {},
   "outputs": [],
   "source": [
    "'''5. Timer Program (`time`)\n",
    " \n",
    "* Input: `countdown(5)`\n",
    "* Output:\n",
    " \n",
    "  ```\n",
    "  5  \n",
    "  4  \n",
    "  3  \n",
    "  2  \n",
    "  1  \n",
    "  Time’s up!'''\n",
    "import time\n",
    "c=int(input(\"enter seconds\"))\n",
    "while c>0:\n",
    "    time.sleep(1)\n",
    "    print(c)\n",
    "    c=c-1\n",
    "print(\"Time’s up!\")"
   ]
  },
  {
   "cell_type": "code",
   "execution_count": null,
   "id": "efca5153",
   "metadata": {},
   "outputs": [],
   "source": [
    " \n",
    "'''1. Bank Account Class\n",
    " \n",
    "Attributes:\n",
    " \n",
    "* `balance` → stores the current money in the account\n",
    "* `owner` (optional) → name of account holder\n",
    " \n",
    "Methods:\n",
    " \n",
    "* `deposit(amount)` → adds money to balance\n",
    "* `withdraw(amount)` → subtracts money if enough funds\n",
    "* `get_balance()` → returns balance\n",
    " \n",
    "Example:\n",
    " \n",
    "```python\n",
    "acc = BankAccount(100)   # initial balance = 100\n",
    "acc.deposit(50)          # balance = 150\n",
    "acc.withdraw(30)         # balance = 120\n",
    "print(acc.get_balance())\n",
    "```\n",
    " \n",
    "Output:\n",
    " \n",
    "```\n",
    "Balance: 120\n",
    "```\n",
    " \n",
    "---'''\n",
    "class Bank:\n",
    "    def __init__(self,b,o):\n",
    "        self.b=b\n",
    "        self.o=o\n",
    "    def deposit(self,m):\n",
    "        self.b+=m\n",
    "        print(\"Balance After Deposit:\",self.b)\n",
    "    def withdraw(self,m):\n",
    "        if m<self.b:\n",
    "            self.b-=m\n",
    "            print(\"Balance after withdraw:\",self.b)\n",
    "        else:\n",
    "            print('not enough funds')\n",
    "    def get_balance(self):\n",
    "        print(f'Balnance {self.b} Owner {self.o}')\n",
    "\n",
    "k=Bank(1000,\"hari\")\n",
    "k.get_balance()\n",
    "k.deposit(1000)\n",
    "k.withdraw(1000)\n",
    "k.withdraw(1200)"
   ]
  },
  {
   "cell_type": "code",
   "execution_count": null,
   "id": "448a782d",
   "metadata": {},
   "outputs": [],
   "source": [
    "'''2. Student Class with Average\n",
    "Attributes:\n",
    "* `name` → student name\n",
    "* `marks` → list of student marks `[90, 80, 85]`\n",
    "Methods:\n",
    "* `get_average()` → returns average marks\n",
    "* `add_mark(mark)` → add new score\n",
    "* `get_highest()` → return highest mark\n",
    "* `get_lowest()` → return lowest mark\n",
    "Example:\n",
    "```python\n",
    "s = Student(\"Tom\", [90, 80, 85])\n",
    "print(s.get_average())   # (90+80+85)/3 = 85.0\n",
    "s.add_mark(95)           # marks = [90,80,85,95]\n",
    "print(s.get_highest())   # 95\n",
    "``' \n",
    "Output:\n",
    "```\n",
    "85.0\n",
    "95\n",
    "'''\n",
    "class Student:\n",
    "    def __init__(self,name,marks):\n",
    "        self.name=name\n",
    "        self.marks=marks\n",
    "    def get_average(self):\n",
    "        return sum(self.marks)/len(self.marks)\n",
    "    def add_mark(self,mark):\n",
    "        self.marks.append(mark)\n",
    "    def get_highest(self):\n",
    "        return max(self.marks)\n",
    "    def get_lowest(self):\n",
    "        return min(self.marks)\n",
    "s = Student(\"Tom\", [90, 80, 85])\n",
    "print(s.get_average())   # (90+80+85)/3 = 85.0\n",
    "s.add_mark(95)           # marks = [90,80,85,95]\n",
    "print(s.get_highest()) "
   ]
  },
  {
   "cell_type": "code",
   "execution_count": null,
   "id": "cc106236",
   "metadata": {},
   "outputs": [],
   "source": [
    "'''3. Employee Bonus System\n",
    "Attributes:\n",
    "* `name` → employee name\n",
    "* `salary` → base salary\n",
    "* `role` → role of employee (e.g., Manager, Developer, Intern)\n",
    "Methods:\n",
    "* `bonus()` → calculates bonus depending on role:\n",
    "  * Manager → 20% of salary\n",
    "  * Developer → 10% of salary\n",
    "  * Intern → 5% of salary\n",
    "Example:\n",
    "```python\n",
    "m = Manager(\"Alice\", 50000)\n",
    "print(m.bonus())\n",
    "``'\n",
    "Output:\n",
    "```\n",
    "10000```\n",
    " \n",
    "---'''\n",
    "class Employee:\n",
    "    def __init__(self,name,salary,role):\n",
    "        self.name=name\n",
    "        self.salary=salary\n",
    "        self.role=role\n",
    "    def bonus(self):\n",
    "        if self.role=='Manager':\n",
    "            b=(0.2*self.salary)\n",
    "            self.salary=self.salary+b\n",
    "            return f\"{b}\"\n",
    "        elif self.role=='Developer':\n",
    "            b=(0.1*self.salary)\n",
    "            self.salary=self.salary+b\n",
    "            return f\"{b}\"\n",
    "        elif self.role==\"Intern\":\n",
    "            b=(0.05*self.salary)\n",
    "            self.salary=self.salary+b\n",
    "            return f\"{b}\"\n",
    "m = Employee(\"Alice\", 50000,\"Manager\")\n",
    "print(m.bonus())\n",
    "            \n"
   ]
  },
  {
   "cell_type": "code",
   "execution_count": null,
   "id": "323bf31e",
   "metadata": {},
   "outputs": [],
   "source": [
    "'''4. Shape Area Calculator\n",
    "Base Class (Shape):\n",
    "*Attribute: `name`\n",
    "*Method: `area()` → to be overridden by subclasses \n",
    "Subclasses: \n",
    "* `Circle(radius)` → area = π × r²\n",
    "* `Rectangle(width, height)` → area = width × height \n",
    "Example:\n",
    "```python\n",
    "c = Circle(7)\n",
    "print(c.area())\n",
    "r = Rectangle(4, 5)\n",
    "print(r.area())\n",
    "```\n",
    "Output:\n",
    "```\n",
    "153.94\n",
    "20'''\n",
    "import math\n",
    "class Shape:\n",
    "    def __init__(self,name):\n",
    "        self.name=name\n",
    "\n",
    "    def area(self):\n",
    "        pass\n",
    "class Circle(Shape):\n",
    "    def __init__(self,radius):\n",
    "        self.radius=radius\n",
    "    def area(self):\n",
    "        return round(math.pi*math.pow(self.radius,2),2)\n",
    "\n",
    "class Rectangle(Shape):\n",
    "    def __init__(self,width,height):\n",
    "        self.width=width\n",
    "        self.height=height\n",
    "    def area(self):\n",
    "        return self.width*self.height\n",
    "c = Circle(7)\n",
    "print(c.area())\n",
    "r = Rectangle(4, 5)\n",
    "print(r.area())\n"
   ]
  },
  {
   "cell_type": "code",
   "execution_count": null,
   "id": "b5fa6175",
   "metadata": {},
   "outputs": [],
   "source": [
    "'''5. E-commerce Order Class\n",
    "Attributes:\n",
    "* `items` → dictionary of items `{name: price}`\n",
    "Methods:\n",
    "* `add(item, price)` → adds an item to order\n",
    "* `remove(item)` → removes item\n",
    "* `calculate_total()` → returns total price of all items\n",
    "* `show_items()` → lists all items in order\n",
    "Example:\n",
    "```python\n",
    "order = Order()\n",
    "order.add(\"Shirt\", 500)\n",
    "order.add(\"Shoes\", 1500)\n",
    "print(order.calculate_total())\n",
    "```\n",
    "Output:\n",
    "```\n",
    "Total = 2000\n",
    "'''\n",
    "class Order:\n",
    "    def __init__(self):\n",
    "        self.items={}\n",
    "    def add(self,item, price):\n",
    "        self.items[item]=price\n",
    "    def remove(self,item):\n",
    "        del self.items[item]\n",
    "    def calculate_total(self):\n",
    "        total=0\n",
    "        for i in self.items:\n",
    "            total+=self.items[i]\n",
    "        return f\"Total {total}\"\n",
    "    def show_items(self):\n",
    "        return f\"{self.items}\"\n",
    "order = Order()\n",
    "order.add(\"Shirt\", 500)\n",
    "order.add(\"Shoes\", 1500)\n",
    "print(order.calculate_total())"
   ]
  },
  {
   "cell_type": "code",
   "execution_count": 1,
   "id": "9d0b7992",
   "metadata": {},
   "outputs": [
    {
     "name": "stdout",
     "output_type": "stream",
     "text": [
      "120\n"
     ]
    }
   ],
   "source": [
    "'''2. Factorial Using Recursion'''\n",
    "def fact(n):\n",
    "    if n==0:\n",
    "        return 1\n",
    "    else:\n",
    "        return n*(fact(n-1))\n",
    "a=int(input())\n",
    "print(fact(a))"
   ]
  },
  {
   "cell_type": "code",
   "execution_count": 5,
   "id": "1ffa4c42",
   "metadata": {},
   "outputs": [
    {
     "name": "stdout",
     "output_type": "stream",
     "text": [
      "Counter({'apple': 2, 'banana': 2, 'orange': 1})\n"
     ]
    }
   ],
   "source": [
    "'''3. Unique Words Counter\n",
    " \n",
    "* Return unique words in a sentence.\n",
    " \n",
    "* Input: `\"apple banana apple orange banana\"`\n",
    " \n",
    "* Output: `{'apple':2,'banana':2,'orange':1}`'''\n",
    "from collections import Counter\n",
    "l=input()\n",
    "l=Counter(l.split(\" \"))\n",
    "print(l)"
   ]
  },
  {
   "cell_type": "code",
   "execution_count": 7,
   "id": "2c0fc146",
   "metadata": {},
   "outputs": [
    {
     "name": "stdout",
     "output_type": "stream",
     "text": [
      "A+\n"
     ]
    }
   ],
   "source": [
    "'''4. Grade Calculator\n",
    " \n",
    "* Function takes marks and returns grade.\n",
    " \n",
    "* Input: `[85, 90, 78]`\n",
    " \n",
    "* Output: `\"Grade: A\"` '''\n",
    "marks=list(map(int,input().split()))\n",
    "avg=sum(marks)//len(marks)\n",
    "if avg>90 and avg<=100:\n",
    "    print('A')\n",
    "elif avg>80 and avg<=90:\n",
    "    print(\"A+\")\n",
    "elif avg>70 and avg<=80:\n",
    "    print(\"B\")\n",
    "elif avg>60 and avg<=70:\n",
    "    print(\"B+\")\n",
    "elif avg>=50 and avg<=60:\n",
    "    print('C')\n",
    "else:\n",
    "    print(\"Fail\")"
   ]
  },
  {
   "cell_type": "code",
   "execution_count": 76,
   "id": "370537c4",
   "metadata": {},
   "outputs": [
    {
     "name": "stdout",
     "output_type": "stream",
     "text": [
      "[11, 12, 13]\n",
      "Second Max Elementl :12\n"
     ]
    }
   ],
   "source": [
    "'''5. Second Largest Number\n",
    " \n",
    "* Return 2nd largest number from a list.\n",
    " \n",
    "* Input: `[10, 5, 20, 8]`\n",
    " \n",
    "* Output: `10`\n",
    " '''\n",
    "l=list(map(int,input().split()))\n",
    "k=list(set(l))\n",
    "k.sort()\n",
    "print(k)\n",
    "print(f\"Second Max Elementl :{k[len(k)-2]}\" if len(k)>2 else print(k[0]))"
   ]
  },
  {
   "cell_type": "code",
   "execution_count": null,
   "id": "95858cfb",
   "metadata": {},
   "outputs": [
    {
     "name": "stdout",
     "output_type": "stream",
     "text": [
      "['asgmt.ipynb', 'sample.py', 'sample.txt']\n",
      "Text Files: 1\n",
      "Python Files: 1\n"
     ]
    }
   ],
   "source": [
    "## Python Modules ( 5 challenges)\n",
    "'''1. `os` → Count Files by Extension\n",
    "Write a program using `os` to count how many `.txt` and `.py` files are in the current directory.\n",
    "Sample Input (files in folder):\n",
    "```\n",
    "[\"notes.txt\", \"app.py\", \"data.csv\", \"report.txt\", \"main.py\"]\n",
    "```\n",
    "Sample Output:\n",
    "```\n",
    "Text files: 2\n",
    "Python files: 2\n",
    "'''\n",
    "import os\n",
    "k=os.listdir()\n",
    "print(k)\n",
    "p,t=0,0\n",
    "for i in k:\n",
    "    if '.py' in i:\n",
    "        p+=1\n",
    "    elif '.txt' in i:\n",
    "        t+=1\n",
    "print(f'Text Files: {t}')\n",
    "print(f'Python Files: {p}')\n"
   ]
  },
  {
   "cell_type": "code",
   "execution_count": null,
   "id": "c096a645",
   "metadata": {},
   "outputs": [
    {
     "name": "stdout",
     "output_type": "stream",
     "text": [
      "Mean =  4\n",
      "Meadian =  4\n",
      "Variance =  1\n"
     ]
    }
   ],
   "source": [
    "'''2. `statistics` → Exam Score Analysis\n",
    "Use `statistics` to calculate the mean, median, and variance of student exam scores.\n",
    "Sample Input:\n",
    "Scores = [75, 80, 90, 100, 85, 90, 95]\n",
    "Sample Output:\n",
    "Mean = 88.57\n",
    "Median = 90\n",
    "Variance = 71.43\n",
    "'''\n",
    "import statistics\n",
    "scores=list(map(int,input(\"Enter Scores\").split()))\n",
    "print(f\"Mean = \",round(statistics.mean(scores),2))\n",
    "print(\"Meadian = \",round(statistics.median(scores),2))\n",
    "print(\"Variance = \",round(statistics.variance(scores),2))\n"
   ]
  },
  {
   "cell_type": "code",
   "execution_count": null,
   "id": "53ba4928",
   "metadata": {},
   "outputs": [
    {
     "name": "stdout",
     "output_type": "stream",
     "text": [
      "2.0 and 1.0\n"
     ]
    }
   ],
   "source": [
    "\n",
    "'''\n",
    "3. `math` → Quadratic Equation Solver \n",
    "Use the `math` module to solve quadratic equations of the form `ax² + bx + c = 0`.\n",
    "Sample Input:\n",
    "a = 1, b = -3, c = 2 \n",
    "Sample Output:\n",
    "Roots are: 1.0 and 2.0\n",
    "```\n",
    "'''\n",
    "import math\n",
    "a,b,c=map(int,input(\"Enter a,b,c (ax² + bx + c = 0)\").split())\n",
    "d=math.pow(b,2)-(4*a*c)\n",
    "s1=(-b+math.sqrt(d))/(2*a)\n",
    "s2=(-b-math.sqrt(d))/(2*a)\n",
    "print(f'{s1} and {s2}')"
   ]
  },
  {
   "cell_type": "code",
   "execution_count": 65,
   "id": "1cc97631",
   "metadata": {},
   "outputs": [
    {
     "name": "stdout",
     "output_type": "stream",
     "text": [
      "You chose Paper, Computer chose Scissors\n",
      "Computer Win!\n"
     ]
    }
   ],
   "source": [
    "'''\n",
    "4. `random` → Rock Paper Scissors Game\n",
    "Use `random.choice()` to let the computer play Rock–Paper–Scissors against the user.\n",
    "Sample Input:\n",
    "User: Rock\n",
    "Computer (random): Scissors\n",
    "Sample Output:\n",
    "You chose Rock, Computer chose Scissors\n",
    "You Win!\n",
    "'''\n",
    "import random\n",
    "k=[\"Rock\",\"Paper\",\"Scissors\"]\n",
    "u=input(\"User:\")\n",
    "c=random.choice(k)\n",
    "print(f\"You chose {u}, Computer chose {c}\")\n",
    "if (u=='Rock' and c==\"Scissors\") or (u=='Scissors' and c=='Paper') or (u=='Paper' and c=='Rock'):\n",
    "    print(\"You Win!\")\n",
    "elif c==u:\n",
    "    print(\"Tie!\")\n",
    "else:\n",
    "    print(\"Computer Win!\")\n",
    "    \n"
   ]
  },
  {
   "cell_type": "code",
   "execution_count": 25,
   "id": "914719e0",
   "metadata": {},
   "outputs": [
    {
     "ename": "ValueError",
     "evalue": "invalid literal for int() with base 10: '--f=c:\\\\Users\\\\mrdee\\\\AppData\\\\Roaming\\\\jupyter\\\\runtime\\\\kernel-v32e3dd05a6ba2038af4ca8727d11701465e14ba80.json'",
     "output_type": "error",
     "traceback": [
      "\u001b[31m---------------------------------------------------------------------------\u001b[39m",
      "\u001b[31mValueError\u001b[39m                                Traceback (most recent call last)",
      "\u001b[36mCell\u001b[39m\u001b[36m \u001b[39m\u001b[32mIn[25]\u001b[39m\u001b[32m, line 11\u001b[39m\n\u001b[32m      9\u001b[39m s=\u001b[32m0\u001b[39m\n\u001b[32m     10\u001b[39m \u001b[38;5;28;01mfor\u001b[39;00m i \u001b[38;5;129;01min\u001b[39;00m k:\n\u001b[32m---> \u001b[39m\u001b[32m11\u001b[39m     s+=\u001b[38;5;28;43mint\u001b[39;49m\u001b[43m(\u001b[49m\u001b[43mi\u001b[49m\u001b[43m)\u001b[49m\n\u001b[32m     12\u001b[39m \u001b[38;5;28mprint\u001b[39m(\u001b[33mf\u001b[39m\u001b[33m\"\u001b[39m\u001b[33mSum = \u001b[39m\u001b[38;5;132;01m{\u001b[39;00ms\u001b[38;5;132;01m}\u001b[39;00m\u001b[33m\"\u001b[39m)\n",
      "\u001b[31mValueError\u001b[39m: invalid literal for int() with base 10: '--f=c:\\\\Users\\\\mrdee\\\\AppData\\\\Roaming\\\\jupyter\\\\runtime\\\\kernel-v32e3dd05a6ba2038af4ca8727d11701465e14ba80.json'"
     ]
    }
   ],
   "source": [
    "'''5. `sys` → Sum from Command Line\n",
    "Write a program using `sys.argv` to take three numbers from the command line and print their sum.\n",
    "Sample Input (command line):\n",
    "python add.py 5 10 15\n",
    "Sample Output:\n",
    "Sum = 30'''\n",
    "import sys\n",
    "k=sys.argv[1:]\n",
    "s=0\n",
    "for i in k:\n",
    "    s+=int(i)\n",
    "print(f\"Sum = {s}\")\n"
   ]
  },
  {
   "cell_type": "code",
   "execution_count": 40,
   "id": "ce5bab0c",
   "metadata": {},
   "outputs": [
    {
     "name": "stdout",
     "output_type": "stream",
     "text": [
      "You borrowed Python 101\n",
      "You Returned Python 101\n",
      "Available Books:{'Python 101': 3, 'Data Science': 2}\n"
     ]
    }
   ],
   "source": [
    "'''\n",
    "Python OOPs (5 challenges)\n",
    "### 1. Library System\n",
    "Create a `Library` class with:\n",
    "*Attributes: `books` (dict with book title → copies available)\n",
    "*Methods:\n",
    "* `borrow(title)` → decreases stock if available\n",
    "* `return_book(title)` → increases stock\n",
    "* `show_books()` → prints all available books\n",
    "Sample Input:\n",
    "```python\n",
    "lib = Library({\"Python 101\": 3, \"Data Science\": 2})\n",
    "print(lib.borrow(\"Python 101\"))\n",
    "print(lib.return_book(\"Python 101\"))\n",
    "lib.show_books()\n",
    "Sample Output:\n",
    "You borrowed Python 101\n",
    "You returned Python 101\n",
    "Available books: {'Python 101': 3, 'Data Science': 2}\n",
    "``` '''\n",
    "class Library:\n",
    "    def __init__(self,books):\n",
    "        self.books=books\n",
    "    def borrow(self,title):\n",
    "        if title in self.books:\n",
    "            self.books[title]-=1\n",
    "            print(f\"You borrowed {title}\")\n",
    "    def return_book(self,title):\n",
    "        self.books[title]+=1\n",
    "        print(f\"You Returned {title}\")\n",
    "    def show_books(self):\n",
    "        print(f\"Available Books:{self.books}\")\n",
    "lib = Library({\"Python 101\": 3, \"Data Science\": 2})\n",
    "lib.borrow(\"Python 101\")\n",
    "lib.return_book(\"Python 101\")\n",
    "lib.show_books()\n"
   ]
  },
  {
   "cell_type": "code",
   "execution_count": 39,
   "id": "0bc8d31e",
   "metadata": {},
   "outputs": [
    {
     "name": "stdout",
     "output_type": "stream",
     "text": [
      "Access Granted\n",
      "Deposited 200\n",
      "Withdrew 100\n",
      "Balance 600\n"
     ]
    }
   ],
   "source": [
    "\n",
    "'''\n",
    "### 2. ATM Machine with PIN\n",
    "Create an `ATM` class with:\n",
    "*Attributes: `balance`, `pin`, `is_authenticated`\n",
    "*Methods:\n",
    "* `login(pin)` → checks PIN\n",
    "* `check_balance()`\n",
    "* `deposit(amount)`\n",
    "* `withdraw(amount)`\n",
    "Sample Input:\n",
    "```python\n",
    "atm = ATM(1234, 500) \n",
    "print(atm.login(1234)) \n",
    "print(atm.deposit(200))\n",
    "print(atm.withdraw(100))\n",
    "print(atm.check_balance())\n",
    "```\n",
    "Sample Output:\n",
    "Access Granted \n",
    "Deposited 200\n",
    "Withdrew 100\n",
    "Balance: 600\n",
    "'''\n",
    "class ATM:\n",
    "    def __init__(self,pin,b):\n",
    "        self.pin=pin\n",
    "        self.b=b\n",
    "        self.is_aut=False\n",
    "    def login(self,pin):\n",
    "        if self.pin==pin:\n",
    "            self.is_aut=True\n",
    "            print(\"Access Granted\")\n",
    "        else:\n",
    "            print(\"Access Denied\")\n",
    "    def deposit(self,d):\n",
    "        self.b+=d\n",
    "        print(f\"Deposited {d}\")\n",
    "    def withdraw(self,a):\n",
    "        if a<self.b:\n",
    "            self.b-=a\n",
    "            print(f\"Withdrew {a}\")\n",
    "    def check_balance(self):\n",
    "        print(f\"Balance {self.b}\")\n",
    "\n",
    "atm = ATM(1234, 500) \n",
    "atm.login(1234) \n",
    "atm.deposit(200)\n",
    "atm.withdraw(100)\n",
    "atm.check_balance() "
   ]
  },
  {
   "cell_type": "code",
   "execution_count": 45,
   "id": "e7ee4955",
   "metadata": {},
   "outputs": [
    {
     "name": "stdout",
     "output_type": "stream",
     "text": [
      "Dr. Smith is teaching Python\n",
      "Alice enrolled in Python\n",
      "Dr. Smith assigned: Project 1\n",
      "Alice submitted: Project 1\n"
     ]
    }
   ],
   "source": [
    "\n",
    "'''\n",
    "3. University System\n",
    "Create `Professor` and `Student` classes.\n",
    "*Professor Attributes: `name`, `subject`\n",
    "*Professor Methods: `teach(course)`, `give_assignment(task)`\n",
    "*Student Attributes: `name`, `courses`, `assignments`\n",
    "*Student Methods: `enroll(course)`, `submit_assignment(task)`\n",
    "Sample Input:\n",
    "```python\n",
    "prof = Professor(\"Dr. Smith\", \"Computer Science\")\n",
    "stud = Student(\"Alice\")\n",
    "print(prof.teach(\"Python\"))\n",
    "print(stud.enroll(\"Python\"))\n",
    "print(prof.give_assignment(\"Project 1\"))\n",
    "print(stud.submit_assignment(\"Project 1\"))\n",
    "```\n",
    "Sample Output:\n",
    "Dr. Smith is teaching Python\n",
    "Alice enrolled in Python\n",
    "Dr. Smith assigned: Project 1\n",
    "Alice submitted: Project 1\n",
    "'''\n",
    "class Professor:\n",
    "    def __init__(self,name ,subject):\n",
    "        self.name=name\n",
    "        self.subject=subject\n",
    "    def teach(self,course):\n",
    "        return (f\"{self.name} is teaching {course}\")\n",
    "    def give_assignment(self,task):\n",
    "        return (f\"{self.name} assigned: {task}\")\n",
    "class Student:\n",
    "    def __init__(self,name):\n",
    "        self.name=name\n",
    "    def enroll(self,course):\n",
    "        return (f\"{self.name} enrolled in {course}\")\n",
    "    def submit_assignment(self,task):\n",
    "        return (f\"{self.name} submitted: {task}\")\n",
    "prof = Professor(\"Dr. Smith\", \"Computer Science\")\n",
    "stud = Student(\"Alice\")\n",
    "print(prof.teach(\"Python\"))\n",
    "print(stud.enroll(\"Python\"))\n",
    "print(prof.give_assignment(\"Project 1\"))\n",
    "print(stud.submit_assignment(\"Project 1\"))"
   ]
  },
  {
   "cell_type": "code",
   "execution_count": 49,
   "id": "a3fe90a6",
   "metadata": {},
   "outputs": [
    {
     "name": "stdout",
     "output_type": "stream",
     "text": [
      "Booked 2 tickets for Avatar\n",
      "Cancelled 1 ticket for Avatar\n"
     ]
    },
    {
     "data": {
      "text/plain": [
       "{'Avatar': 9, 'Batman': 5}"
      ]
     },
     "execution_count": 49,
     "metadata": {},
     "output_type": "execute_result"
    }
   ],
   "source": [
    "\n",
    "### 4. Movie Ticket Booking \n",
    "'''\n",
    "Create a `Cinema` class with:\n",
    "*Attributes: `movies` (dict → movie: seats available)\n",
    "*Methods:\n",
    "* `book(movie, seats)` → reduces seat count\n",
    "* `cancel(movie, seats)` → adds back seats\n",
    "* `show_movies()` → shows available seats\n",
    "Sample Input:\n",
    "```python\n",
    "cinema = Cinema({\"Avatar\": 10, \"Batman\": 5})\n",
    "print(cinema.book(\"Avatar\", 2))\n",
    "print(cinema.cancel(\"Avatar\", 1))\n",
    "cinema.show_movies()\n",
    "```\n",
    "Sample Output:\n",
    "``''\n",
    "Booked 2 tickets for Avatar\n",
    "Cancelled 1 ticket for Avatar\n",
    "Movies: {'Avatar': 9, 'Batman': 5}\n",
    "'''\n",
    "class Cinema:\n",
    "    def __init__(self,movies):\n",
    "        self.movies=movies\n",
    "    def book(self,movie,seats):\n",
    "        if movie in self.movies:\n",
    "            self.movies[movie]-=seats\n",
    "            if seats<2:\n",
    "                return f\"Booked {seats} ticket for {movie}\"\n",
    "            else:\n",
    "                return f\"Booked {seats} tickets for {movie}\"\n",
    "    def cancel(self,movie,seats):\n",
    "        if movie in self.movies:\n",
    "            self.movies[movie]+=seats\n",
    "            if seats<2:\n",
    "                return f\"Cancelled {seats} ticket for {movie}\"\n",
    "            else:\n",
    "                return f\"Cancelled {seats} tickets for {movie}\"\n",
    "    def show_movies(self):\n",
    "        return self.movies\n",
    "cinema = Cinema({\"Avatar\": 10, \"Batman\": 5})\n",
    "print(cinema.book(\"Avatar\", 2))\n",
    "print(cinema.cancel(\"Avatar\", 1))\n",
    "cinema.show_movies()\n",
    "        \n",
    "\n",
    "        \n",
    " "
   ]
  },
  {
   "cell_type": "code",
   "execution_count": 61,
   "id": "f1ffb9de",
   "metadata": {},
   "outputs": [
    {
     "name": "stdout",
     "output_type": "stream",
     "text": [
      "Burger added\n",
      "Pizza added\n",
      "Pizza price updated to 250\n",
      "Burger removed\n"
     ]
    },
    {
     "data": {
      "text/plain": [
       "\"{'Pizza': 250}\""
      ]
     },
     "execution_count": 61,
     "metadata": {},
     "output_type": "execute_result"
    }
   ],
   "source": [
    "\n",
    "### 5. Restaurant Menu\n",
    "'''Create a `Menu` class with:\n",
    "*Attributes: `items` (dict → item: price)\n",
    "*Methods:\n",
    "* `add_item(name, price)`\n",
    "* `remove_item(name)`\n",
    "* `update_price(name, new_price)`\n",
    "* `show_menu()`\n",
    "Sample Input:\n",
    "```python\n",
    "menu = Menu()\n",
    "print(menu.add_item(\"Burger\", 100))\n",
    "print(menu.add_item(\"Pizza\", 200))\n",
    "print(menu.update_price(\"Pizza\", 250))\n",
    "print(menu.remove_item(\"Burger\"))\n",
    "menu.show_menu()\n",
    "```\n",
    "Sample Output:\n",
    "```\n",
    "Burger added\n",
    "Pizza added\n",
    "Pizza price updated to 250\n",
    "Burger removed\n",
    "Menu: {'Pizza': 250} \n",
    "'''\n",
    "class Menu:\n",
    "    def __init__(self):\n",
    "        self.items={}\n",
    "    def add_item(self,name,price):\n",
    "        self.items[name]=price\n",
    "        return f\"{name} added\"\n",
    "    def remove_item(self,name):\n",
    "        if name in self.items:\n",
    "            del self.items[name]\n",
    "            return f\"{name} removed\"\n",
    "    def update_price(self,name,new_price):\n",
    "        if name in self.items:\n",
    "            self.items[name]=new_price\n",
    "            return f\"{name} price updated to {self.items[name]}\"\n",
    "    def show_menu(self):\n",
    "        return f\"{self.items}\"\n",
    "\n",
    "menu = Menu()\n",
    "print(menu.add_item(\"Burger\", 100))\n",
    "print(menu.add_item(\"Pizza\", 200))\n",
    "print(menu.update_price(\"Pizza\", 250))\n",
    "print(menu.remove_item(\"Burger\"))\n",
    "menu.show_menu()\n",
    "\n"
   ]
  },
  {
   "cell_type": "code",
   "execution_count": null,
   "id": "c205d831",
   "metadata": {},
   "outputs": [],
   "source": []
  }
 ],
 "metadata": {
  "kernelspec": {
   "display_name": "Python 3",
   "language": "python",
   "name": "python3"
  },
  "language_info": {
   "codemirror_mode": {
    "name": "ipython",
    "version": 3
   },
   "file_extension": ".py",
   "mimetype": "text/x-python",
   "name": "python",
   "nbconvert_exporter": "python",
   "pygments_lexer": "ipython3",
   "version": "3.11.13"
  }
 },
 "nbformat": 4,
 "nbformat_minor": 5
}
